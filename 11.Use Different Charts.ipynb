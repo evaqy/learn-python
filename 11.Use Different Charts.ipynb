{
 "cells": [
  {
   "cell_type": "markdown",
   "metadata": {},
   "source": [
    "# 1.导入你所需要的包"
   ]
  },
  {
   "cell_type": "code",
   "execution_count": 2,
   "metadata": {},
   "outputs": [],
   "source": [
    "%matplotlib inline\n",
    "import pandas as pd\n",
    "from matplotlib import pyplot as plt\n"
   ]
  },
  {
   "cell_type": "markdown",
   "metadata": {},
   "source": [
    "# 2.创建我们的数据 [12406.8,13908.57,9386.87,9143.64]赋值给我们的GDP"
   ]
  },
  {
   "cell_type": "code",
   "execution_count": 3,
   "metadata": {},
   "outputs": [],
   "source": [
    "GDP = [12406.8,13908.57,9386.87,9143.64]"
   ]
  },
  {
   "cell_type": "markdown",
   "metadata": {},
   "source": [
    "# 3.防止中文乱码，将我们默认字体设置为黑体"
   ]
  },
  {
   "cell_type": "code",
   "execution_count": 7,
   "metadata": {},
   "outputs": [],
   "source": [
    "from matplotlib import font_manager\n",
    "my_font = font_manager.FontProperties(fname='../data/STSONG.TTF')"
   ]
  },
  {
   "cell_type": "markdown",
   "metadata": {},
   "source": [
    "# 4.进行画图\n",
    "# 5.设置x轴的刻度疏密程度为x值，标签值为GDP，颜色为blue\n",
    "# 6.添加4个刻度标签，'北京市','上海市','天津市','重庆市'\n",
    "# 7.设置Y轴的刻度范围5000到15000\n",
    "# 8.为每个条形图添加数值标签 通过enumerate函数创造，将我们这些柱状图添加数值，并且将数值居中显示\n",
    "# 9.显示这个图形"
   ]
  },
  {
   "cell_type": "code",
   "execution_count": 13,
   "metadata": {},
   "outputs": [
    {
     "data": {
      "image/png": "[encoded data removed]",
      "text/plain": [
       "<Figure size 432x288 with 1 Axes>"
      ]
     },
     "metadata": {
      "needs_background": "light"
     },
     "output_type": "display_data"
    }
   ],
   "source": [
    "plt.bar(range(4), GDP,color='blue')\n",
    "plt.ylabel('GDP')\n",
    "# 添加标题\n",
    "plt.title('四个直辖市GDP大比拼', fontproperties=my_font)\n",
    "# 添加刻度标签\n",
    "plt.xticks(range(4),['北京市','上海市','天津市','重庆市'], fontproperties=my_font)\n",
    "# 设置Y轴的刻度范围\n",
    "plt.ylim([5000,15000])\n",
    "\n",
    "# 为每个条形图添加数值标签\n",
    "for x,y in enumerate(GDP):\n",
    "    plt.text(x,y,'%s' %round(y,1),ha='center')\n",
    "    \n",
    "# 显示图形\n",
    "plt.show()"
   ]
  },
  {
   "cell_type": "code",
   "execution_count": null,
   "metadata": {},
   "outputs": [],
   "source": []
  }
 ],
 "metadata": {
  "kernelspec": {
   "display_name": "Python 3",
   "language": "python",
   "name": "python3"
  },
  "language_info": {
   "codemirror_mode": {
    "name": "ipython",
    "version": 3
   },
   "file_extension": ".py",
   "mimetype": "text/x-python",
   "name": "python",
   "nbconvert_exporter": "python",
   "pygments_lexer": "ipython3",
   "version": "3.7.6"
  }
 },
 "nbformat": 4,
 "nbformat_minor": 2
}
